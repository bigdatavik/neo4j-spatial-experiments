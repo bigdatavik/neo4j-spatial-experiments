{
 "cells": [
  {
   "cell_type": "markdown",
   "metadata": {},
   "source": [
    "<img src=\"images/borehole_graph.png\" ></img>\n",
    "\n",
    "<br>\n",
    "\n",
    "# Borehole Graph Data Model Example\n",
    "\n",
    "In this notebook, we will use <a href=\"https://steno3d.com\">Steno3D</a> to view and share data throughout the steps of a lithological borehole graph from neo4j. "
   ]
  },
  {
   "cell_type": "markdown",
   "metadata": {},
   "source": [
    "## Login to Steno3D\n",
    "\n",
    "The first thing you need to do is login to Steno3D. You can <a href=\"https://steno3d.com/signup\">sign up for an account</a> to get your own developer API key if you do not have one already. Running the cell below will provide you with instructions for how to obtain and enter your key."
   ]
  },
  {
   "cell_type": "code",
   "execution_count": 1,
   "metadata": {},
   "outputs": [],
   "source": [
    "import steno3d"
   ]
  },
  {
   "cell_type": "code",
   "execution_count": 5,
   "metadata": {
    "scrolled": true
   },
   "outputs": [
    {
     "name": "stdout",
     "output_type": "stream",
     "text": [
      "\n",
      "You are already logged in as @mmorley. To log in as a different user\n",
      "please `steno3d.logout()`, then login specifying a different\n",
      "username or API developer key.\n",
      "\n",
      "\n"
     ]
    }
   ],
   "source": [
    "steno3d.login()"
   ]
  },
  {
   "cell_type": "code",
   "execution_count": 59,
   "metadata": {},
   "outputs": [],
   "source": [
    "prelim_data = steno3d.Project(\n",
    "    title='Neo4j Borehole Experiment',\n",
    "    description='An experiment in modeling 3d borehole data with neo4j.',\n",
    "    public=True\n",
    ")"
   ]
  },
  {
   "cell_type": "markdown",
   "metadata": {},
   "source": [
    "## Query the data from Neo4j using Neo4j Driver\n",
    "\n",
    "First step is to use a cypher query to extract the data from Neo4j. We will use the Neo4j Python driver for this, through the jupyter notebook. \n",
    "\n",
    "The Steno3d app requires collar data to be in a nested array of form: [[x,y,z]...[x,y,z]], so we require a neo4j query that returns the data through the python driver. \n",
    "\n",
    "// borehole collar array\n",
    "match (c:Collar) \n",
    "with [c.Location.x,c.Location.y,c.Location.z] as location,p\n",
    "return \n",
    "collect(location)\n",
    "\n",
    "The results of this statement will be placed into a variable for steno. "
   ]
  },
  {
   "cell_type": "markdown",
   "metadata": {},
   "source": [
    "## Drill Locations\n",
    "\n",
    "We need to use the collar locations to set the locations of the holes. "
   ]
  },
  {
   "cell_type": "code",
   "execution_count": 60,
   "metadata": {},
   "outputs": [
    {
     "name": "stdout",
     "output_type": "stream",
     "text": [
      "[[53.644787, -112.509351, 675.0], [53.658038, -112.509387, 684.0], [53.548422, -112.780078, 710.0], [53.657936, -112.53403, 672.0], [53.657997, -112.558643, 664.0], [53.658243, -112.583313, 667.0], [53.658217, -112.608009, 665.0], [53.658198, -112.632661, 671.0], [53.657981, -112.657335, 669.0], [53.658136, -112.681969, 674.0], [53.658017, -112.706449, 691.0], [53.657974, -112.731597, 726.0], [53.67253, -112.755157, 734.0], [53.67385, -112.731015, 706.0], [53.672683, -112.706897, 677.0], [53.672621, -112.681992, 674.0], [53.672669, -112.657059, 671.0], [53.672689, -112.632653, 667.0], [53.672712, -112.607577, 665.0], [53.672727, -112.582951, 664.0], [53.672684, -112.558584, 668.0], [53.672628, -112.533642, 676.0], [53.672705, -112.509083, 693.0], [53.687198, -112.509098, 693.0], [53.68709, -112.533616, 679.0], [53.687148, -112.558573, 670.0], [53.687206, -112.583188, 663.0], [53.687405, -112.607479, 670.0], [53.687178, -112.632417, 666.0], [53.687187, -112.657451, 668.0], [53.687278, -112.682045, 672.0], [53.556206, -112.780325, 710.0], [53.688273, -112.706628, 678.0], [53.687193, -112.731539, 682.0], [53.687185, -112.756153, 728.0], [53.685604, -112.780676, 730.0], [53.70191, -112.755853, 702.0], [53.701874, -112.731246, 672.0], [53.701882, -112.706637, 665.0], [53.701766, -112.681798, 663.0], [53.703539, -112.657411, 665.0], [53.701851, -112.632739, 667.0], [53.701865, -112.607437, 664.0], [53.701869, -112.583166, 669.0], [53.541692, -112.558826, 670.0], [53.557846, -112.730977, 719.0], [53.556152, -112.706258, 724.0], [53.555671, -112.681731, 708.0], [53.556143, -112.657303, 679.0], [53.556172, -112.63268, 680.0], [53.541696, -112.583092, 674.0], [53.556203, -112.607965, 678.0], [53.556173, -112.583082, 676.0], [53.556206, -112.558515, 671.0], [53.599738, -112.755328, 702.0], [53.599615, -112.780234, 704.0], [53.541657, -112.682005, 720.0], [53.55614, -112.534247, 669.0], [53.541695, -112.607725, 675.0], [53.556099, -112.509168, 673.0], [53.569887, -112.509399, 670.0], [53.570793, -112.53389, 669.0], [53.571444, -112.632811, 681.0], [53.570591, -112.681603, 693.0], [53.541503, -112.534275, 668.0], [53.570612, -112.706115, 703.0], [53.570527, -112.731026, 709.0], [53.57074, -112.755385, 704.0], [53.570673, -112.779989, 716.0], [53.570583, -112.804559, 707.0], [53.585234, -112.780253, 707.0], [53.585143, -112.755357, 693.0], [53.585145, -112.730658, 698.0], [53.585245, -112.681663, 689.0], [53.542193, -112.632576, 678.0], [53.585262, -112.705966, 692.0], [53.585278, -112.65735, 681.0], [53.585279, -112.632703, 685.0], [53.585316, -112.607717, 682.0], [53.585309, -112.583364, 673.0], [53.585234, -112.558457, 670.0], [53.585224, -112.533836, 672.0], [53.586311, -112.509369, 670.0], [53.599893, -112.509145, 669.0], [53.599873, -112.534098, 673.0], [53.54166, -112.657015, 684.0], [53.599745, -112.558753, 672.0], [53.599983, -112.583084, 671.0], [53.59997, -112.608017, 682.0], [53.599927, -112.632684, 687.0], [53.599727, -112.656996, 688.0], [53.599734, -112.706279, 700.0], [53.599874, -112.681431, 685.0], [53.59974, -112.730588, 699.0], [53.599749, -112.804667, 710.0], [53.614194, -112.804333, 710.0], [53.614183, -112.7799, 702.0], [53.614171, -112.755303, 705.0], [53.614255, -112.730948, 705.0], [53.614338, -112.68179, 689.0], [53.614376, -112.706275, 697.0], [53.614402, -112.656917, 693.0], [53.614408, -112.63265, 686.0], [53.701763, -112.558201, 673.0], [53.701744, -112.533863, 687.0], [53.701871, -112.509111, 692.0], [53.716032, -112.509433, 682.0], [53.556118, -112.755707, 717.0], [53.716072, -112.533935, 686.0], [53.716106, -112.558426, 675.0], [53.716182, -112.583112, 668.0], [53.716185, -112.607887, 665.0], [53.716182, -112.632663, 664.0], [53.716218, -112.657282, 657.0], [53.716212, -112.682273, 658.0], [53.716249, -112.706637, 660.0], [53.716267, -112.731263, 664.0], [53.716332, -112.755844, 674.0], [53.716339, -112.775689, 694.0], [53.541675, -112.509489, 666.0], [53.629022, -112.656908, 685.0], [53.62882, -112.68187, 691.0], [53.628984, -112.706432, 703.0], [53.628773, -112.731005, 709.0], [53.628923, -112.755314, 719.0], [53.628735, -112.780247, 713.0], [53.629088, -112.804675, 735.0], [53.64348, -112.755569, 727.0], [53.643464, -112.731303, 725.0], [53.541714, -112.755449, 726.0], [53.643466, -112.681596, 681.0], [53.643533, -112.706583, 705.0], [53.643529, -112.657306, 672.0], [53.614468, -112.607957, 672.0], [53.541676, -112.706518, 737.0], [53.614468, -112.583398, 672.0], [53.614478, -112.55874, 675.0], [53.614361, -112.533757, 673.0], [53.614392, -112.509138, 669.0], [53.629021, -112.509122, 674.0], [53.629063, -112.534023, 670.0], [53.6289, -112.558734, 672.0], [53.629134, -112.583397, 670.0], [53.629122, -112.608022, 672.0], [53.629082, -112.632638, 673.0], [50.57572, -112.677121, 917.0], [50.604945, -112.769282, 968.0], [50.604908, -112.91914, 873.0], [50.546544, -113.00001, 948.0], [50.612253, -113.484659, 1011.0], [50.626695, -113.692431, 1016.0], [50.881378, -112.27267, 764.0], [50.917692, -112.583882, 850.0], [49.286476, -111.099133, 901.0], [49.206424, -111.009386, 902.0], [49.206545, -110.605865, 985.0], [49.322926, -110.516205, 982.0], [49.272043, -110.605815, 959.0], [50.743293, -113.092161, 907.0], [50.808863, -113.276998, 919.0], [50.866996, -113.507892, 981.0], [50.866878, -113.761831, 1014.0], [49.702255, -113.270269, 948.0], [49.65837, -112.909096, 936.0], [49.78217, -112.550475, 853.0], [49.505004, -112.634438, 934.0], [49.403087, -112.197337, 955.0], [52.43372, -113.741452, 846.0], [52.712377, -113.583812, 820.0], [52.843297, -113.027738, 758.0], [52.684647, -110.122124, 624.0], [52.69915, -110.122131, 631.0], [52.739621, -110.823346, 667.0], [52.754115, -110.823374, 661.0], [52.65049, -111.177704, 694.0], [52.772501, -111.50051, 686.0], [52.775963, -111.911853, 684.0], [52.861578, -112.525831, 700.0], [52.843305, -113.130466, 769.0], [56.665803, -115.07743, 634.0], [56.738446, -114.759101, 721.0], [56.771676, -114.480783, 738.0], [56.771676, -114.480783, 738.0], [56.030647, -115.453972, 663.0], [56.037247, -115.452305, 671.0], [56.103148, -115.594424, 661.0], [56.074067, -115.471335, 665.0], [56.857367, -115.765395, 786.0], [56.846753, -115.763301, 738.0], [56.920684, -115.910811, 781.0], [56.876185, -115.830376, 796.0], [55.171885, -112.901932, 606.0], [55.189892, -113.354136, 624.0], [58.572716, -117.924443, 411.0], [58.552889, -117.443474, 363.0], [58.592023, -115.163278, 335.0], [58.520197, -116.606771, 330.0], [58.901823, -117.477181, 344.0], [58.716421, -117.244735, 335.0], [55.335501, -113.306825, 640.0], [55.416401, -113.347506, 658.0], [55.416401, -113.347506, 658.0], [55.238685, -112.466757, 594.0], [55.484255, -112.374943, 693.0], [55.484255, -112.374943, 693.0], [55.540055, -112.3303, 733.0], [55.0498, -113.944129, 637.0], [55.793444, -113.406324, 571.0], [55.868825, -113.34404, 579.0], [56.82908, -115.24629, 567.0], [56.31935, -115.36632, 494.0], [55.455769, -117.741667, 668.0], [56.452139, -115.802045, 587.0], [56.452139, -115.802045, 587.0], [55.4377, -117.741667, 700.0], [55.41945, -117.729003, 710.0], [56.910386, -117.278122, 442.0], [56.586547, -117.207655, 505.0], [56.415645, -116.961114, 585.0], [56.492065, -116.750375, 590.0], [56.749894, -110.633552, 267.62], [56.709779, -110.746412, 260.3], [56.163904, -115.308422, 649.0], [56.382759, -115.354174, 562.0], [56.775659, -115.284982, 502.0], [56.926207, -115.204487, 478.0], [56.738808, -115.509239, 541.0], [56.738808, -115.509239, 541.0], [56.576437, -115.214329, 560.0], [56.467133, -115.335023, 545.0], [49.846283, -111.13628, 845.0], [49.638481, -111.226685, 848.0], [49.463071, -111.129923, 879.0], [49.306568, -111.169159, 910.0], [49.06079, -110.357001, 876.0], [49.02432, -110.145371, 855.0], [49.104646, -110.111745, 878.0], [49.330215, -110.25856, 1063.0], [49.359336, -110.292172, 1105.0], [49.714905, -110.228, 1182.0], [56.846922, -115.726487, 768.0], [56.844133, -115.726123, 758.0], [56.848829, -115.726717, 779.0], [56.849004, -115.746716, 758.0], [56.84596, -115.715059, 761.0], [56.852691, -115.774125, 751.0], [56.855079, -115.769357, 774.0], [53.644425, -112.632621, 671.0], [49.826053, -110.259012, 964.0], [49.986025, -110.06761, 747.0], [50.044155, -110.272259, 812.0], [50.087896, -110.476991, 742.0], [49.920417, -111.249997, 807.0], [49.905919, -112.410412, 857.0], [49.971452, -112.751628, 878.0], [49.949734, -113.18296, 954.0], [49.825733, -113.032497, 937.0], [50.299114, -112.358721, 792.0], [50.321001, -112.690866, 881.0], [50.270047, -112.908423, 969.0], [50.284483, -113.227713, 975.0], [50.284419, -113.409284, 987.0], [53.643569, -112.608017, 668.0], [53.643603, -112.583393, 670.0], [53.642395, -112.558745, 671.0], [53.643521, -112.534033, 667.0]]\n"
     ]
    }
   ],
   "source": [
    "from neo4j import GraphDatabase\n",
    "\n",
    "uri = \"bolt://localhost:7687\"\n",
    "driver = GraphDatabase.driver(uri, auth=(\"neo4j\", \"password\"))\n",
    "\n",
    "def borehole_data(tx):\n",
    "    records=tx.run(\"match (c:Collar) \"\n",
    "                         \"with [c.Location.x,c.Location.y,c.Location.z] as location \"\n",
    "                         \"return collect(location) as location\")\n",
    "    return records\n",
    "        \n",
    "with driver.session() as session:\n",
    "    results=session.read_transaction(borehole_data).data(0)\n",
    "    nodes=[]\n",
    "    i = 0\n",
    "    for record in results:\n",
    "        target= i\n",
    "        i += 1\n",
    "        for item in record['location']:\n",
    "            nodes.append(item)\n",
    "            source= i\n",
    "            i+=i\n",
    "    print(nodes)\n",
    "    drill_locations=steno3d.Mesh0D(vertices=nodes) \n"
   ]
  },
  {
   "cell_type": "markdown",
   "metadata": {},
   "source": [
    "For this notebook, we will be loading data to steno3d from the neo4j borehole data"
   ]
  },
  {
   "cell_type": "markdown",
   "metadata": {},
   "source": [
    "We only need the locations of these points, no other data, so let's construct our <a href=\"https://python.steno3d.com/en/latest/content/api/resources/point.html\">point</a> resource now. We will make the points orange so they stand out when plotted with the surface imagery."
   ]
  },
  {
   "cell_type": "code",
   "execution_count": 61,
   "metadata": {},
   "outputs": [],
   "source": [
    "drill_points = steno3d.Point(\n",
    "    project=prelim_data,\n",
    "    title='Proposed Drill Locations',\n",
    "    mesh=drill_locations,\n",
    "    opts=dict(color='orange')\n",
    ")"
   ]
  },
  {
   "cell_type": "markdown",
   "metadata": {},
   "source": [
    "After uploading these points to our project on <a href=\"https://steno3d.com\">steno3d.com</a>, let's print the url of our project to share."
   ]
  },
  {
   "cell_type": "code",
   "execution_count": 62,
   "metadata": {},
   "outputs": [
    {
     "name": "stdout",
     "output_type": "stream",
     "text": [
      "Verifying your quota for public projects...\n",
      "This PUBLIC project will be viewable by everyone.\n",
      "Total progress: 100% - Uploading: project Neo4j Borehole Experiment\n",
      "Complete!\n",
      "https://steno3d.com/resource/point/FD3wJyMoWbJgzxi8iOwr\n"
     ]
    },
    {
     "data": {
      "text/plain": [
       "'https://steno3d.com/resource/point/FD3wJyMoWbJgzxi8iOwr'"
      ]
     },
     "execution_count": 62,
     "metadata": {},
     "output_type": "execute_result"
    }
   ],
   "source": [
    "drill_points.upload()"
   ]
  },
  {
   "cell_type": "code",
   "execution_count": 63,
   "metadata": {},
   "outputs": [
    {
     "name": "stdout",
     "output_type": "stream",
     "text": [
      "https://steno3d.com/app/oZXUDuSzFYrqWsTd0GpV\n"
     ]
    }
   ],
   "source": [
    "print(prelim_data.url)"
   ]
  },
  {
   "cell_type": "markdown",
   "metadata": {},
   "source": [
    "## Plot the Borehole Data\n",
    "\n",
    "After discussing the preliminary data project online with collaborators, it was decided to go ahead with borehole drilling. Now the data is back and available to be explored with. Let's make a new project to contain the results of the drilling."
   ]
  },
  {
   "cell_type": "code",
   "execution_count": 25,
   "metadata": {},
   "outputs": [],
   "source": [
    "result_data = steno3d.Project(\n",
    "    title='Neo4j Borehole Experiment',\n",
    "    description='An experiment in modeling 3d borehole data with neo4j.',\n",
    "    public=True\n",
    ")"
   ]
  },
  {
   "cell_type": "markdown",
   "metadata": {},
   "source": [
    "To display our borehole data, we first need a <a href=\"https://python.steno3d.com/en/latest/content/api/resources/line.html#meshes\">mesh 1D</a> based on their spatial geometry. This is imported from the `Wolfpass` module. The `view_type` option sets the lines mesh to initially display as fixed-width, extruded \"tubes\" rather than true 1D lines."
   ]
  },
  {
   "cell_type": "code",
   "execution_count": null,
   "metadata": {},
   "outputs": [],
   "source": [
    "borehole_mesh = steno3d.Mesh1D(\n",
    "    vertices = Wolfpass.borehole_vertices,\n",
    "    segments = Wolfpass.borehole_segments,\n",
    "    opts = dict(\n",
    "        view_type='boreholes'\n",
    "    )\n",
    ")"
   ]
  },
  {
   "cell_type": "markdown",
   "metadata": {},
   "source": [
    "Let's create a <a href=\"https://python.steno3d.com/en/latest/content/api/resources/line.html\">line</a> resource now using this mesh."
   ]
  },
  {
   "cell_type": "code",
   "execution_count": null,
   "metadata": {},
   "outputs": [],
   "source": [
    "boreholes = steno3d.Line(\n",
    "    project=result_data,\n",
    "    title='Borehole Results',\n",
    "    description='Data based on results of borehole drilling',\n",
    "    mesh=borehole_mesh\n",
    ")"
   ]
  },
  {
   "cell_type": "markdown",
   "metadata": {},
   "source": [
    "We need to add all the data to the boreholes now."
   ]
  },
  {
   "cell_type": "code",
   "execution_count": null,
   "metadata": {},
   "outputs": [],
   "source": [
    "borehole_raw_data = Wolfpass.borehole_data\n",
    "borehole_data = [\n",
    "    steno3d.DataArray(title=rd, array=borehole_raw_data[rd]) for rd in borehole_raw_data\n",
    "]\n",
    "borehole_bound_data = [\n",
    "    dict(location='CC', data=d) for d in borehole_data\n",
    "]"
   ]
  },
  {
   "cell_type": "code",
   "execution_count": null,
   "metadata": {},
   "outputs": [],
   "source": [
    "boreholes.data = borehole_bound_data"
   ]
  },
  {
   "cell_type": "markdown",
   "metadata": {},
   "source": [
    "These boreholes will be easier to analyze if the ground surface is also present. We can simply add the ground surface resource created for the <a href=\"#Inspect-the-Surface-Topography\">preliminary data project</a> to our results data project."
   ]
  },
  {
   "cell_type": "markdown",
   "metadata": {},
   "source": [
    "Now our borehole results can be uploaded and shared."
   ]
  },
  {
   "cell_type": "code",
   "execution_count": 24,
   "metadata": {},
   "outputs": [
    {
     "ename": "NameError",
     "evalue": "name 'result_data' is not defined",
     "output_type": "error",
     "traceback": [
      "\u001b[0;31m---------------------------------------------------------------------------\u001b[0m",
      "\u001b[0;31mNameError\u001b[0m                                 Traceback (most recent call last)",
      "\u001b[0;32m<ipython-input-24-7f6b444374b1>\u001b[0m in \u001b[0;36m<module>\u001b[0;34m\u001b[0m\n\u001b[0;32m----> 1\u001b[0;31m \u001b[0mresult_data\u001b[0m\u001b[0;34m.\u001b[0m\u001b[0mupload\u001b[0m\u001b[0;34m(\u001b[0m\u001b[0;34m)\u001b[0m\u001b[0;34m\u001b[0m\u001b[0;34m\u001b[0m\u001b[0m\n\u001b[0m",
      "\u001b[0;31mNameError\u001b[0m: name 'result_data' is not defined"
     ]
    }
   ],
   "source": [
    "result_data.upload()"
   ]
  },
  {
   "cell_type": "markdown",
   "metadata": {},
   "source": [
    "## Explore the Modeled Formation\n",
    "\n",
    "Based on the borehole results, modelling of the dacite formation has been carried out. Let's view this modeled surface with our other results using <a href=\"https://steno3d.com\">Steno3D</a>. We will create, upload, and print the url for sharing in one step."
   ]
  },
  {
   "cell_type": "code",
   "execution_count": null,
   "metadata": {},
   "outputs": [],
   "source": [
    "dacite_ind = Wolfpass.lith_names.index('dacite')\n",
    "dacite_vertices = Wolfpass.lith_vertices[dacite_ind]\n",
    "dacite_triangles = Wolfpass.lith_triangles[dacite_ind]\n",
    "\n",
    "dacite_surface = steno3d.Surface(\n",
    "    project=result_data,\n",
    "    title='Dacite Formation',\n",
    "    description='Bounding surface of dacite based on borehole data and modelling results',\n",
    "    mesh=steno3d.Mesh2D(\n",
    "        vertices=dacite_vertices,\n",
    "        triangles=dacite_triangles\n",
    "    ),\n",
    "    opts=dict(\n",
    "        color='red'\n",
    "    )\n",
    ")\n",
    "dacite_surface.upload()\n",
    "print(result_data.url)"
   ]
  },
  {
   "cell_type": "markdown",
   "metadata": {},
   "source": [
    "___\n",
    "**Navigation**\n",
    "- <a href=\"#Comprehensive-Example:-Wolf-Pass-Exploration-Project\">Top of page</a>\n",
    "- <a href=\"index.ipynb\">Notebook home</a>\n",
    "- <a href=\"https://steno3d.com\">Steno3D website</a>\n",
    "- <a href=\"https://steno3d.com/docs\">Steno3D documentation</a>\n",
    "- <a href=\"https://github.com/seequent/steno3d-notebooks/issues/new\">Report an issue</a>\n",
    "___"
   ]
  }
 ],
 "metadata": {
  "kernelspec": {
   "display_name": "Python 3",
   "language": "python",
   "name": "python3"
  },
  "language_info": {
   "codemirror_mode": {
    "name": "ipython",
    "version": 3
   },
   "file_extension": ".py",
   "mimetype": "text/x-python",
   "name": "python",
   "nbconvert_exporter": "python",
   "pygments_lexer": "ipython3",
   "version": "3.7.2"
  }
 },
 "nbformat": 4,
 "nbformat_minor": 1
}
