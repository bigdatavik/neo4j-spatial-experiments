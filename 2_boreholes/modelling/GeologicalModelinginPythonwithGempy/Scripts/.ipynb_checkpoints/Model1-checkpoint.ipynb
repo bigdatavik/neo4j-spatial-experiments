{
 "cells": [
  {
   "cell_type": "code",
   "execution_count": 1,
   "metadata": {},
   "outputs": [
    {
     "name": "stderr",
     "output_type": "stream",
     "text": [
      "E:\\Software\\Anaconda3\\lib\\site-packages\\gempy\\plotting\\visualization.py:31: UserWarning: Vtk package is not installed. No vtk visualization available.\n",
      "  warnings.warn('Vtk package is not installed. No vtk visualization available.')\n",
      "WARNING (theano.configdefaults): g++ not available, if using conda: `conda install m2w64-toolchain`\n",
      "E:\\Software\\Anaconda3\\lib\\site-packages\\theano\\configdefaults.py:560: UserWarning: DeprecationWarning: there is no c++ compiler.This is deprecated and with Theano 0.11 a c++ compiler will be mandatory\n",
      "  warnings.warn(\"DeprecationWarning: there is no c++ compiler.\"\n",
      "WARNING (theano.configdefaults): g++ not detected ! Theano will be unable to execute optimized C-implementations (for both CPU and GPU) and will default to Python implementations. Performance will be severely degraded. To remove this warning, set Theano flags cxx to an empty string.\n",
      "WARNING (theano.tensor.blas): Using NumPy C-API based implementation for BLAS functions.\n"
     ]
    }
   ],
   "source": [
    "# Importing GemPy\n",
    "import gempy as gp\n",
    "\n",
    "# Embedding matplotlib figures in the notebooks\n",
    "%matplotlib inline\n",
    "\n",
    "# Importing auxiliary libraries\n",
    "import numpy as np\n",
    "import matplotlib.pyplot as plt"
   ]
  },
  {
   "cell_type": "code",
   "execution_count": 3,
   "metadata": {},
   "outputs": [
    {
     "name": "stderr",
     "output_type": "stream",
     "text": [
      "E:\\Software\\Anaconda3\\lib\\site-packages\\gempy\\data_management.py:811: FutureWarning: Method .as_matrix will be removed in a future version. Use .values instead.\n",
      "  for i in self.interfaces[\"formation\"]]\n",
      "E:\\Software\\Anaconda3\\lib\\site-packages\\gempy\\data_management.py:815: FutureWarning: Method .as_matrix will be removed in a future version. Use .values instead.\n",
      "  for i in self.orientations[\"formation\"]]\n"
     ]
    }
   ],
   "source": [
    "geo_data = gp.create_data([0,1000,0,1000,0,1000],resolution=[50,50,50], \n",
    "                        path_o = \"../Txt/model1_orientations.csv\",\n",
    "                        path_i = \"../Txt/model1_surface_points.csv\")"
   ]
  },
  {
   "cell_type": "code",
   "execution_count": 4,
   "metadata": {},
   "outputs": [
    {
     "name": "stderr",
     "output_type": "stream",
     "text": [
      "E:\\Software\\Anaconda3\\lib\\site-packages\\gempy\\data_management.py:319: FutureWarning: Sorting because non-concatenation axis is not aligned. A future version\n",
      "of pandas will change to not sort by default.\n",
      "\n",
      "To accept the future behavior, pass 'sort=False'.\n",
      "\n",
      "To retain the current behavior and silence the warning, pass 'sort=True'.\n",
      "\n",
      "  keys=['interfaces', 'orientations'])\n"
     ]
    },
    {
     "data": {
      "text/html": [
       "<div>\n",
       "<style scoped>\n",
       "    .dataframe tbody tr th:only-of-type {\n",
       "        vertical-align: middle;\n",
       "    }\n",
       "\n",
       "    .dataframe tbody tr th {\n",
       "        vertical-align: top;\n",
       "    }\n",
       "\n",
       "    .dataframe thead th {\n",
       "        text-align: right;\n",
       "    }\n",
       "</style>\n",
       "<table border=\"1\" class=\"dataframe\">\n",
       "  <thead>\n",
       "    <tr style=\"text-align: right;\">\n",
       "      <th></th>\n",
       "      <th></th>\n",
       "      <th>G_x</th>\n",
       "      <th>G_y</th>\n",
       "      <th>G_z</th>\n",
       "      <th>X</th>\n",
       "      <th>Y</th>\n",
       "      <th>Z</th>\n",
       "      <th>azimuth</th>\n",
       "      <th>dip</th>\n",
       "      <th>formation</th>\n",
       "      <th>formation_number</th>\n",
       "      <th>isFault</th>\n",
       "      <th>order_series</th>\n",
       "      <th>polarity</th>\n",
       "      <th>series</th>\n",
       "    </tr>\n",
       "  </thead>\n",
       "  <tbody>\n",
       "    <tr>\n",
       "      <th rowspan=\"13\" valign=\"top\">interfaces</th>\n",
       "      <th>6</th>\n",
       "      <td>NaN</td>\n",
       "      <td>NaN</td>\n",
       "      <td>NaN</td>\n",
       "      <td>100.0</td>\n",
       "      <td>200.0</td>\n",
       "      <td>400.0</td>\n",
       "      <td>NaN</td>\n",
       "      <td>NaN</td>\n",
       "      <td>rock1</td>\n",
       "      <td>1</td>\n",
       "      <td>False</td>\n",
       "      <td>1</td>\n",
       "      <td>NaN</td>\n",
       "      <td>Default series</td>\n",
       "    </tr>\n",
       "    <tr>\n",
       "      <th>7</th>\n",
       "      <td>NaN</td>\n",
       "      <td>NaN</td>\n",
       "      <td>NaN</td>\n",
       "      <td>500.0</td>\n",
       "      <td>200.0</td>\n",
       "      <td>400.0</td>\n",
       "      <td>NaN</td>\n",
       "      <td>NaN</td>\n",
       "      <td>rock1</td>\n",
       "      <td>1</td>\n",
       "      <td>False</td>\n",
       "      <td>1</td>\n",
       "      <td>NaN</td>\n",
       "      <td>Default series</td>\n",
       "    </tr>\n",
       "    <tr>\n",
       "      <th>8</th>\n",
       "      <td>NaN</td>\n",
       "      <td>NaN</td>\n",
       "      <td>NaN</td>\n",
       "      <td>900.0</td>\n",
       "      <td>200.0</td>\n",
       "      <td>400.0</td>\n",
       "      <td>NaN</td>\n",
       "      <td>NaN</td>\n",
       "      <td>rock1</td>\n",
       "      <td>1</td>\n",
       "      <td>False</td>\n",
       "      <td>1</td>\n",
       "      <td>NaN</td>\n",
       "      <td>Default series</td>\n",
       "    </tr>\n",
       "    <tr>\n",
       "      <th>9</th>\n",
       "      <td>NaN</td>\n",
       "      <td>NaN</td>\n",
       "      <td>NaN</td>\n",
       "      <td>100.0</td>\n",
       "      <td>800.0</td>\n",
       "      <td>400.0</td>\n",
       "      <td>NaN</td>\n",
       "      <td>NaN</td>\n",
       "      <td>rock1</td>\n",
       "      <td>1</td>\n",
       "      <td>False</td>\n",
       "      <td>1</td>\n",
       "      <td>NaN</td>\n",
       "      <td>Default series</td>\n",
       "    </tr>\n",
       "    <tr>\n",
       "      <th>10</th>\n",
       "      <td>NaN</td>\n",
       "      <td>NaN</td>\n",
       "      <td>NaN</td>\n",
       "      <td>500.0</td>\n",
       "      <td>800.0</td>\n",
       "      <td>400.0</td>\n",
       "      <td>NaN</td>\n",
       "      <td>NaN</td>\n",
       "      <td>rock1</td>\n",
       "      <td>1</td>\n",
       "      <td>False</td>\n",
       "      <td>1</td>\n",
       "      <td>NaN</td>\n",
       "      <td>Default series</td>\n",
       "    </tr>\n",
       "    <tr>\n",
       "      <th>11</th>\n",
       "      <td>NaN</td>\n",
       "      <td>NaN</td>\n",
       "      <td>NaN</td>\n",
       "      <td>900.0</td>\n",
       "      <td>800.0</td>\n",
       "      <td>400.0</td>\n",
       "      <td>NaN</td>\n",
       "      <td>NaN</td>\n",
       "      <td>rock1</td>\n",
       "      <td>1</td>\n",
       "      <td>False</td>\n",
       "      <td>1</td>\n",
       "      <td>NaN</td>\n",
       "      <td>Default series</td>\n",
       "    </tr>\n",
       "    <tr>\n",
       "      <th>0</th>\n",
       "      <td>NaN</td>\n",
       "      <td>NaN</td>\n",
       "      <td>NaN</td>\n",
       "      <td>100.0</td>\n",
       "      <td>200.0</td>\n",
       "      <td>600.0</td>\n",
       "      <td>NaN</td>\n",
       "      <td>NaN</td>\n",
       "      <td>rock2</td>\n",
       "      <td>2</td>\n",
       "      <td>False</td>\n",
       "      <td>1</td>\n",
       "      <td>NaN</td>\n",
       "      <td>Default series</td>\n",
       "    </tr>\n",
       "    <tr>\n",
       "      <th>1</th>\n",
       "      <td>NaN</td>\n",
       "      <td>NaN</td>\n",
       "      <td>NaN</td>\n",
       "      <td>500.0</td>\n",
       "      <td>200.0</td>\n",
       "      <td>600.0</td>\n",
       "      <td>NaN</td>\n",
       "      <td>NaN</td>\n",
       "      <td>rock2</td>\n",
       "      <td>2</td>\n",
       "      <td>False</td>\n",
       "      <td>1</td>\n",
       "      <td>NaN</td>\n",
       "      <td>Default series</td>\n",
       "    </tr>\n",
       "    <tr>\n",
       "      <th>2</th>\n",
       "      <td>NaN</td>\n",
       "      <td>NaN</td>\n",
       "      <td>NaN</td>\n",
       "      <td>900.0</td>\n",
       "      <td>200.0</td>\n",
       "      <td>600.0</td>\n",
       "      <td>NaN</td>\n",
       "      <td>NaN</td>\n",
       "      <td>rock2</td>\n",
       "      <td>2</td>\n",
       "      <td>False</td>\n",
       "      <td>1</td>\n",
       "      <td>NaN</td>\n",
       "      <td>Default series</td>\n",
       "    </tr>\n",
       "    <tr>\n",
       "      <th>3</th>\n",
       "      <td>NaN</td>\n",
       "      <td>NaN</td>\n",
       "      <td>NaN</td>\n",
       "      <td>100.0</td>\n",
       "      <td>800.0</td>\n",
       "      <td>600.0</td>\n",
       "      <td>NaN</td>\n",
       "      <td>NaN</td>\n",
       "      <td>rock2</td>\n",
       "      <td>2</td>\n",
       "      <td>False</td>\n",
       "      <td>1</td>\n",
       "      <td>NaN</td>\n",
       "      <td>Default series</td>\n",
       "    </tr>\n",
       "    <tr>\n",
       "      <th>4</th>\n",
       "      <td>NaN</td>\n",
       "      <td>NaN</td>\n",
       "      <td>NaN</td>\n",
       "      <td>500.0</td>\n",
       "      <td>800.0</td>\n",
       "      <td>600.0</td>\n",
       "      <td>NaN</td>\n",
       "      <td>NaN</td>\n",
       "      <td>rock2</td>\n",
       "      <td>2</td>\n",
       "      <td>False</td>\n",
       "      <td>1</td>\n",
       "      <td>NaN</td>\n",
       "      <td>Default series</td>\n",
       "    </tr>\n",
       "    <tr>\n",
       "      <th>5</th>\n",
       "      <td>NaN</td>\n",
       "      <td>NaN</td>\n",
       "      <td>NaN</td>\n",
       "      <td>900.0</td>\n",
       "      <td>800.0</td>\n",
       "      <td>600.0</td>\n",
       "      <td>NaN</td>\n",
       "      <td>NaN</td>\n",
       "      <td>rock2</td>\n",
       "      <td>2</td>\n",
       "      <td>False</td>\n",
       "      <td>1</td>\n",
       "      <td>NaN</td>\n",
       "      <td>Default series</td>\n",
       "    </tr>\n",
       "    <tr>\n",
       "      <th>12</th>\n",
       "      <td>NaN</td>\n",
       "      <td>NaN</td>\n",
       "      <td>NaN</td>\n",
       "      <td>0.0</td>\n",
       "      <td>0.0</td>\n",
       "      <td>0.0</td>\n",
       "      <td>NaN</td>\n",
       "      <td>NaN</td>\n",
       "      <td>basement</td>\n",
       "      <td>3</td>\n",
       "      <td>False</td>\n",
       "      <td>1</td>\n",
       "      <td>NaN</td>\n",
       "      <td>Default series</td>\n",
       "    </tr>\n",
       "    <tr>\n",
       "      <th rowspan=\"2\" valign=\"top\">orientations</th>\n",
       "      <th>1</th>\n",
       "      <td>1.000000e-12</td>\n",
       "      <td>1.000000e-12</td>\n",
       "      <td>1.0</td>\n",
       "      <td>500.0</td>\n",
       "      <td>500.0</td>\n",
       "      <td>400.0</td>\n",
       "      <td>90.0</td>\n",
       "      <td>0.0</td>\n",
       "      <td>rock1</td>\n",
       "      <td>1</td>\n",
       "      <td>False</td>\n",
       "      <td>1</td>\n",
       "      <td>1.0</td>\n",
       "      <td>Default series</td>\n",
       "    </tr>\n",
       "    <tr>\n",
       "      <th>0</th>\n",
       "      <td>1.000000e-12</td>\n",
       "      <td>1.000000e-12</td>\n",
       "      <td>1.0</td>\n",
       "      <td>500.0</td>\n",
       "      <td>500.0</td>\n",
       "      <td>600.0</td>\n",
       "      <td>90.0</td>\n",
       "      <td>0.0</td>\n",
       "      <td>rock2</td>\n",
       "      <td>2</td>\n",
       "      <td>False</td>\n",
       "      <td>1</td>\n",
       "      <td>1.0</td>\n",
       "      <td>Default series</td>\n",
       "    </tr>\n",
       "  </tbody>\n",
       "</table>\n",
       "</div>"
      ],
      "text/plain": [
       "                          G_x           G_y  G_z      X      Y      Z  \\\n",
       "interfaces   6            NaN           NaN  NaN  100.0  200.0  400.0   \n",
       "             7            NaN           NaN  NaN  500.0  200.0  400.0   \n",
       "             8            NaN           NaN  NaN  900.0  200.0  400.0   \n",
       "             9            NaN           NaN  NaN  100.0  800.0  400.0   \n",
       "             10           NaN           NaN  NaN  500.0  800.0  400.0   \n",
       "             11           NaN           NaN  NaN  900.0  800.0  400.0   \n",
       "             0            NaN           NaN  NaN  100.0  200.0  600.0   \n",
       "             1            NaN           NaN  NaN  500.0  200.0  600.0   \n",
       "             2            NaN           NaN  NaN  900.0  200.0  600.0   \n",
       "             3            NaN           NaN  NaN  100.0  800.0  600.0   \n",
       "             4            NaN           NaN  NaN  500.0  800.0  600.0   \n",
       "             5            NaN           NaN  NaN  900.0  800.0  600.0   \n",
       "             12           NaN           NaN  NaN    0.0    0.0    0.0   \n",
       "orientations 1   1.000000e-12  1.000000e-12  1.0  500.0  500.0  400.0   \n",
       "             0   1.000000e-12  1.000000e-12  1.0  500.0  500.0  600.0   \n",
       "\n",
       "                 azimuth  dip formation  formation_number  isFault  \\\n",
       "interfaces   6       NaN  NaN     rock1                 1    False   \n",
       "             7       NaN  NaN     rock1                 1    False   \n",
       "             8       NaN  NaN     rock1                 1    False   \n",
       "             9       NaN  NaN     rock1                 1    False   \n",
       "             10      NaN  NaN     rock1                 1    False   \n",
       "             11      NaN  NaN     rock1                 1    False   \n",
       "             0       NaN  NaN     rock2                 2    False   \n",
       "             1       NaN  NaN     rock2                 2    False   \n",
       "             2       NaN  NaN     rock2                 2    False   \n",
       "             3       NaN  NaN     rock2                 2    False   \n",
       "             4       NaN  NaN     rock2                 2    False   \n",
       "             5       NaN  NaN     rock2                 2    False   \n",
       "             12      NaN  NaN  basement                 3    False   \n",
       "orientations 1      90.0  0.0     rock1                 1    False   \n",
       "             0      90.0  0.0     rock2                 2    False   \n",
       "\n",
       "                 order_series  polarity          series  \n",
       "interfaces   6              1       NaN  Default series  \n",
       "             7              1       NaN  Default series  \n",
       "             8              1       NaN  Default series  \n",
       "             9              1       NaN  Default series  \n",
       "             10             1       NaN  Default series  \n",
       "             11             1       NaN  Default series  \n",
       "             0              1       NaN  Default series  \n",
       "             1              1       NaN  Default series  \n",
       "             2              1       NaN  Default series  \n",
       "             3              1       NaN  Default series  \n",
       "             4              1       NaN  Default series  \n",
       "             5              1       NaN  Default series  \n",
       "             12             1       NaN  Default series  \n",
       "orientations 1              1       1.0  Default series  \n",
       "             0              1       1.0  Default series  "
      ]
     },
     "execution_count": 4,
     "metadata": {},
     "output_type": "execute_result"
    }
   ],
   "source": [
    "geo_data.get_data()"
   ]
  },
  {
   "cell_type": "code",
   "execution_count": 5,
   "metadata": {},
   "outputs": [],
   "source": [
    "gp.set_series(geo_data, {\"Strat_Series\": ('rock2','rock1'),\"Basement_Series\":('basement')},\n",
    "              order_series = ['Strat_Series','Basement_Series'],\n",
    "              order_formations=np.array(['rock2','rock1','basement']), verbose=0)"
   ]
  },
  {
   "cell_type": "code",
   "execution_count": 6,
   "metadata": {},
   "outputs": [
    {
     "name": "stderr",
     "output_type": "stream",
     "text": [
      "E:\\Software\\Anaconda3\\lib\\site-packages\\gempy\\plotting\\sequential_pile.py:136: FutureWarning: Method .as_matrix will be removed in a future version. Use .values instead.\n",
      "  pos_anch = np.squeeze(self.anch_series.as_matrix())\n",
      "E:\\Software\\Anaconda3\\lib\\site-packages\\gempy\\plotting\\sequential_pile.py:156: FutureWarning: Method .as_matrix will be removed in a future version. Use .values instead.\n",
      "  pos_anch = np.squeeze(self.anch_formations.as_matrix())\n"
     ]
    },
    {
     "data": {
      "text/plain": [
       "<gempy.plotting.sequential_pile.StratigraphicPile at 0xfa97ba8>"
      ]
     },
     "execution_count": 6,
     "metadata": {},
     "output_type": "execute_result"
    },
    {
     "data": {
      "image/png": "[encoded data removed]",
      "text/plain": [
       "<Figure size 432x288 with 1 Axes>"
      ]
     },
     "metadata": {
      "needs_background": "light"
     },
     "output_type": "display_data"
    }
   ],
   "source": [
    "#%matplotlib inline\n",
    "gp.get_sequential_pile(geo_data)"
   ]
  },
  {
   "cell_type": "code",
   "execution_count": 7,
   "metadata": {},
   "outputs": [
    {
     "data": {
      "image/png": "[encoded data removed]",
      "text/plain": [
       "<Figure size 360x360 with 1 Axes>"
      ]
     },
     "metadata": {},
     "output_type": "display_data"
    }
   ],
   "source": [
    "gp.plotting.plot_data(geo_data, direction='y')"
   ]
  },
  {
   "cell_type": "code",
   "execution_count": 8,
   "metadata": {},
   "outputs": [
    {
     "name": "stderr",
     "output_type": "stream",
     "text": [
      "E:\\Software\\Anaconda3\\lib\\site-packages\\gempy\\interpolator.py:206: FutureWarning: Sorting because non-concatenation axis is not aligned. A future version\n",
      "of pandas will change to not sort by default.\n",
      "\n",
      "To accept the future behavior, pass 'sort=False'.\n",
      "\n",
      "To retain the current behavior and silence the warning, pass 'sort=True'.\n",
      "\n",
      "  [geo_data.orientations, geo_data.interfaces]).max()[['X', 'Y', 'Z']]\n",
      "E:\\Software\\Anaconda3\\lib\\site-packages\\gempy\\interpolator.py:208: FutureWarning: Sorting because non-concatenation axis is not aligned. A future version\n",
      "of pandas will change to not sort by default.\n",
      "\n",
      "To accept the future behavior, pass 'sort=False'.\n",
      "\n",
      "To retain the current behavior and silence the warning, pass 'sort=True'.\n",
      "\n",
      "  [geo_data.orientations, geo_data.interfaces]).min()[['X', 'Y', 'Z']]\n",
      "E:\\Software\\Anaconda3\\lib\\site-packages\\gempy\\interpolator.py:243: FutureWarning: Method .as_matrix will be removed in a future version. Use .values instead.\n",
      "  geo_data_rescaled.extent = copy.copy(new_coord_extent.as_matrix())\n",
      "E:\\Software\\Anaconda3\\lib\\site-packages\\gempy\\interpolator.py:246: FutureWarning: Method .as_matrix will be removed in a future version. Use .values instead.\n",
      "  geo_data_rescaled.x_to_interp_given = (geo_data.grid.values - centers.as_matrix()) / rescaling_factor + 0.5001\n",
      "E:\\Software\\Anaconda3\\lib\\site-packages\\gempy\\interpolator.py:765: FutureWarning: Method .as_matrix will be removed in a future version. Use .values instead.\n",
      "  self.pandas_rest_layer_points[['X', 'Y', 'Z']].as_matrix(),\n",
      "E:\\Software\\Anaconda3\\lib\\site-packages\\gempy\\interpolator.py:766: FutureWarning: Method .as_matrix will be removed in a future version. Use .values instead.\n",
      "  self.pandas_ref_layer_points_rep[['X', 'Y', 'Z']].as_matrix()))\n"
     ]
    },
    {
     "name": "stdout",
     "output_type": "stream",
     "text": [
      "Compiling theano function...\n",
      "Compilation Done!\n",
      "Level of Optimization:  fast_compile\n",
      "Device:  cpu\n",
      "Precision:  float32\n",
      "Number of faults:  0\n"
     ]
    }
   ],
   "source": [
    "interp_data = gp.InterpolatorData(geo_data, u_grade=[1], output='geology', compile_theano=True, theano_optimizer='fast_compile')"
   ]
  },
  {
   "cell_type": "code",
   "execution_count": 9,
   "metadata": {},
   "outputs": [
    {
     "name": "stderr",
     "output_type": "stream",
     "text": [
      "E:\\Software\\Anaconda3\\lib\\site-packages\\gempy\\interpolator.py:783: FutureWarning: Method .as_matrix will be removed in a future version. Use .values instead.\n",
      "  dips_position = self.geo_data_res_no_basement.orientations[['X', 'Y', 'Z']].as_matrix()\n",
      "E:\\Software\\Anaconda3\\lib\\site-packages\\gempy\\interpolator.py:784: FutureWarning: Method .as_matrix will be removed in a future version. Use .values instead.\n",
      "  dip_angles = self.geo_data_res_no_basement.orientations[\"dip\"].as_matrix()\n",
      "E:\\Software\\Anaconda3\\lib\\site-packages\\gempy\\interpolator.py:785: FutureWarning: Method .as_matrix will be removed in a future version. Use .values instead.\n",
      "  azimuth = self.geo_data_res_no_basement.orientations[\"azimuth\"].as_matrix()\n",
      "E:\\Software\\Anaconda3\\lib\\site-packages\\gempy\\interpolator.py:786: FutureWarning: Method .as_matrix will be removed in a future version. Use .values instead.\n",
      "  polarity = self.geo_data_res_no_basement.orientations[\"polarity\"].as_matrix()\n",
      "E:\\Software\\Anaconda3\\lib\\site-packages\\gempy\\interpolator.py:787: FutureWarning: Method .as_matrix will be removed in a future version. Use .values instead.\n",
      "  ref_layer_points = self.pandas_ref_layer_points_rep[['X', 'Y', 'Z']].as_matrix()\n",
      "E:\\Software\\Anaconda3\\lib\\site-packages\\gempy\\interpolator.py:788: FutureWarning: Method .as_matrix will be removed in a future version. Use .values instead.\n",
      "  rest_layer_points = self.pandas_rest_layer_points[['X', 'Y', 'Z']].as_matrix()\n"
     ]
    }
   ],
   "source": [
    "lith_block, fault_block = gp.compute_model(interp_data)"
   ]
  },
  {
   "cell_type": "code",
   "execution_count": 10,
   "metadata": {},
   "outputs": [
    {
     "data": {
      "image/png": "[encoded data removed]",
      "text/plain": [
       "<Figure size 360x360 with 1 Axes>"
      ]
     },
     "metadata": {},
     "output_type": "display_data"
    }
   ],
   "source": [
    "%matplotlib inline\n",
    "gp.plotting.plot_section(geo_data, lith_block[0], cell_number=25,\n",
    "                         direction='x', plot_data=True)"
   ]
  },
  {
   "cell_type": "code",
   "execution_count": 11,
   "metadata": {},
   "outputs": [
    {
     "data": {
      "image/png": "[encoded data removed]",
      "text/plain": [
       "<Figure size 360x360 with 1 Axes>"
      ]
     },
     "metadata": {},
     "output_type": "display_data"
    }
   ],
   "source": [
    "%matplotlib inline\n",
    "gp.plotting.plot_section(geo_data, lith_block[0], cell_number=25,\n",
    "                         direction='y', plot_data=True)"
   ]
  },
  {
   "cell_type": "code",
   "execution_count": null,
   "metadata": {},
   "outputs": [],
   "source": []
  }
 ],
 "metadata": {
  "kernelspec": {
   "display_name": "Python 3",
   "language": "python",
   "name": "python3"
  },
  "language_info": {
   "codemirror_mode": {
    "name": "ipython",
    "version": 3
   },
   "file_extension": ".py",
   "mimetype": "text/x-python",
   "name": "python",
   "nbconvert_exporter": "python",
   "pygments_lexer": "ipython3",
   "version": "3.6.8"
  }
 },
 "nbformat": 4,
 "nbformat_minor": 2
}
