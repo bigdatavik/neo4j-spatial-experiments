{
 "cells": [
  {
   "cell_type": "markdown",
   "metadata": {},
   "source": [
    "<img src=\"images/steno3d.png\" width=\"200\"></img>\n",
    "\n",
    "<br>\n",
    "\n",
    "# Comprehensive Example: Wolf Pass Exploration Project\n",
    "\n",
    "In this notebook, we will use <a href=\"https://steno3d.com\">Steno3D</a> to view and share data throughout the steps of a mineral resource exploration project at Wolf Pass. The steps in this project include:\n",
    "\n",
    "- <a href=\"#Inspect-the-Surface-Topography\">Inspecting the Surface Topography</a>\n",
    "- <a href=\"#Decide-on-Drill-Locations\">Deciding on Drill Locations</a>\n",
    "- <a href=\"#Plot-the-Borehole-Data\">Plotting the Borehole Data</a>\n",
    "- <a href=\"#Explore-the-Modeled-Formation\">Exploring the Modeled Formation</a>"
   ]
  },
  {
   "cell_type": "markdown",
   "metadata": {},
   "source": [
    "___\n",
    "**Navigation**\n",
    "- <a href=\"index.ipynb\">Notebook home</a>\n",
    "- <a href=\"https://steno3d.com\">Steno3D website</a>\n",
    "- <a href=\"https://steno3d.com/docs\">Steno3D documentation</a>\n",
    "- <a href=\"https://github.com/seequent/steno3d-notebooks/issues/new\">Report an issue</a>\n",
    "___"
   ]
  },
  {
   "cell_type": "code",
   "execution_count": 3,
   "metadata": {},
   "outputs": [],
   "source": [
    "import steno3d"
   ]
  },
  {
   "cell_type": "markdown",
   "metadata": {},
   "source": [
    "## Login to Steno3D\n",
    "\n",
    "The first thing you need to do is login to Steno3D. You can <a href=\"https://steno3d.com/signup\">sign up for an account</a> to get your own developer API key if you do not have one already. Running the cell below will provide you with instructions for how to obtain and enter your key."
   ]
  },
  {
   "cell_type": "code",
   "execution_count": 4,
   "metadata": {},
   "outputs": [
    {
     "name": "stdout",
     "output_type": "stream",
     "text": [
      "\n",
      "Oh no! Your version of steno3d is out of date.\n",
      "\n",
      "Your version: 0.3.11\n",
      "Current version: 0.3.10\n",
      "\n",
      "Please update steno3d with `pip install --upgrade steno3d`.\n",
      "\n",
      "\n",
      "\n",
      ">> Welcome to the Python client library for Steno3D!\n",
      "\n",
      "Credentials file found: /Users/mmorley/.steno3d_client/credentials\n",
      "Accessing API developer key for @mmorley\n",
      "Welcome to Steno3D! You are logged in as @mmorley\n"
     ]
    }
   ],
   "source": [
    "steno3d.login()"
   ]
  },
  {
   "cell_type": "markdown",
   "metadata": {},
   "source": [
    "For this notebook, we will be using example data from the `steno3d.examples.Wolfpass` module. This module downloads raw data, saves it to a folder in the home directory (or another location you may specify), and allows easy access to all the different pieces of data."
   ]
  },
  {
   "cell_type": "code",
   "execution_count": 6,
   "metadata": {},
   "outputs": [],
   "source": [
    "from steno3d.examples import Wolfpass\n",
    "Wolfpass.fetch_data(verbose=False)  # To specify a different data directory than the\n",
    "                                    # default '$HOME/.steno3d_python_assets/' use\n",
    "                                    # keyword argument `directory='/path/to/your/directory/'`"
   ]
  },
  {
   "cell_type": "markdown",
   "metadata": {},
   "source": [
    "## Inspect the Surface Topography\n",
    "\n",
    "The first step of using Steno3D is to create a <a href=\"https://python.steno3d.com/en/latest/content/api/projects.html\">project</a>. Let's make one that will include all our preliminary data used to plan the mineral resource exploration. We will create a different project later when we have some results to display.\n",
    "\n",
    "This project is public, so anyone can view it once it is uploaded. When working with your own data, you may want to create private projects to share only with your collaborators. Different Steno3D accounts allow different numbers of private projects; <a href=\"https://steno3d.com/pricing\">learn about these accounts and how to upgrade on the Steno3D website</a>."
   ]
  },
  {
   "cell_type": "code",
   "execution_count": 5,
   "metadata": {},
   "outputs": [],
   "source": [
    "prelim_data = steno3d.Project(\n",
    "    title='Test',\n",
    "    description='This project will contain surface topography and planned borehole drill locations.',\n",
    "    public=True\n",
    ")"
   ]
  },
  {
   "cell_type": "markdown",
   "metadata": {},
   "source": [
    "Now we can start to construct our ground surface. To build the <a href=\"https://python.steno3d.com/en/latest/content/api/resources/surface.html#meshes\">mesh</a>, we use vertices and triangles imported from our `Wolfpass` example module."
   ]
  },
  {
   "cell_type": "code",
   "execution_count": 13,
   "metadata": {},
   "outputs": [],
   "source": [
    "ground_mesh = steno3d.Mesh2D(\n",
    "    vertices=Wolfpass.topo_vertices,\n",
    "    triangles=Wolfpass.topo_triangles\n",
    ")"
   ]
  },
  {
   "cell_type": "markdown",
   "metadata": {},
   "source": [
    "Elevation data will be useful; this can come directly from the `vertices`."
   ]
  },
  {
   "cell_type": "code",
   "execution_count": 14,
   "metadata": {},
   "outputs": [],
   "source": [
    "ground_elev = steno3d.DataArray(\n",
    "    title='Ground Surface Elevation',\n",
    "    description='Elevation values correspond to mesh vertices',\n",
    "    array=Wolfpass.topo_vertices[:,2]  # Elevation corresponds to Z-component of vertices\n",
    ")"
   ]
  },
  {
   "cell_type": "markdown",
   "metadata": {},
   "source": [
    "We also have some surface imagery of the area. The image and image orientation are avilable in the `Wolfpass` example module. They can be applied as a <a href=\"https://python.steno3d.com/en/latest/content/api/resources/texture.html#resources-texture\">texture</a>."
   ]
  },
  {
   "cell_type": "code",
   "execution_count": 15,
   "metadata": {},
   "outputs": [],
   "source": [
    "ground_image = steno3d.Texture2DImage(\n",
    "    title='Surface Imagery',\n",
    "    image=Wolfpass.topo_image,\n",
    "    O=Wolfpass.topo_image_orientation['O'],\n",
    "    U=Wolfpass.topo_image_orientation['U'],\n",
    "    V=Wolfpass.topo_image_orientation['V']\n",
    ")"
   ]
  },
  {
   "cell_type": "markdown",
   "metadata": {},
   "source": [
    "We can now add these components to our ground surface. (For tips on the data binding step, refer to <a href=\"https://python.steno3d.com/en/latest/content/api/resources/surface.html#data\">binding data to surface</a>."
   ]
  },
  {
   "cell_type": "code",
   "execution_count": 16,
   "metadata": {},
   "outputs": [],
   "source": [
    "ground_surf = steno3d.Surface(\n",
    "    project=prelim_data,\n",
    "    title='Ground Surface',\n",
    "    description='Surface with elevation data and surface imagery.',\n",
    "    mesh=ground_mesh,\n",
    "    textures=ground_image,\n",
    "    data=[dict(location='N',\n",
    "              data=ground_elev)]\n",
    ")"
   ]
  },
  {
   "cell_type": "markdown",
   "metadata": {},
   "source": [
    "We can now upload this surface to <a href=\"https://steno3d.com\">steno3d.com</a> and view the surface here in the notebook to ensure it looks okay."
   ]
  },
  {
   "cell_type": "code",
   "execution_count": 17,
   "metadata": {},
   "outputs": [
    {
     "name": "stdout",
     "output_type": "stream",
     "text": [
      "Verifying your quota for public projects...\n",
      "This PUBLIC project will be viewable by everyone.\n",
      "Total progress: 100% - Uploading: project Testnd Surfacelevation\n",
      "Complete!\n",
      "https://steno3d.com/resource/surface/SB40EyfEzydBaA7FS2fW\n",
      "Resource not uploaded: Please upload() before plotting.\n"
     ]
    }
   ],
   "source": [
    "ground_surf.upload()\n",
    "ground_surf.plot()"
   ]
  },
  {
   "cell_type": "markdown",
   "metadata": {},
   "source": [
    "## Decide on Drill Locations\n",
    "\n",
    "Now that we have the ground surface, we need to add some proposed drill location points. First, we need a <a href=\"https://python.steno3d.com/en/latest/content/api/resources/point.html#meshes\">mesh 0D</a>. The vertex data is imported from the `Wolfpass` module."
   ]
  },
  {
   "cell_type": "code",
   "execution_count": 10,
   "metadata": {},
   "outputs": [],
   "source": [
    "drill_locations = steno3d.Mesh0D(\n",
    "    vertices=Wolfpass.drill_vertices\n",
    ")"
   ]
  },
  {
   "cell_type": "code",
   "execution_count": 11,
   "metadata": {},
   "outputs": [
    {
     "name": "stdout",
     "output_type": "stream",
     "text": [
      "[[445198.219      494110.59399707   3057.75753788]\n",
      " [445196.62499823 494109.65600879   3054.2654076 ]\n",
      " [445260.56299986 493860.71899707   3009.03832773]\n",
      " [445203.344      493720.65600116   3033.77766423]\n",
      " [445291.56300177 493566.21900089   2957.43473057]\n",
      " [445294.03100027 493886.81299121   2970.84867672]\n",
      " [445296.594      493890.25000293   2974.07976727]\n",
      " [445460.81299414 493321.15600879   2979.14362339]\n",
      " [445452.31299414 493402.18800647   2980.30098728]\n",
      " [445427.219      493523.68799884   2978.65771488]\n",
      " [445149.15599646 493884.59399707   3099.24893956]\n",
      " [445293.844      493889.87500293   2973.70386128]\n",
      " [445536.15601172 493143.53100879   2976.94469265]\n",
      " [445633.219      492890.34399707   2935.5617371 ]\n",
      " [445203.12499823 493720.18799884   3033.79004673]\n",
      " [445567.37500586 493500.90600116   2885.07222752]\n",
      " [445455.094      493658.18799884   2874.97363285]\n",
      " [445203.74999823 493719.78100116   3033.17045788]\n",
      " [445708.62500586 493127.18799121   2880.63351445]\n",
      " [445294.65600027 493888.09399707   2971.45294575]\n",
      " [445601.37500586 493296.71899707   2915.15257267]\n",
      " [445501.53101172 493295.09399707   2962.12770085]\n",
      " [445403.93799414 493786.09399707   2905.75407414]\n",
      " [445582.56299414 493406.00000293   2870.71244816]\n",
      " [445273.40600027 493806.93800647   3006.52713684]\n",
      " [445486.53099646 493388.03099353   2952.06747822]\n",
      " [445588.15601172 493609.78100021   2881.64722447]\n",
      " [445471.15599646 493569.74999912   2946.42797856]\n",
      " [445215.00000014 493776.37500293   3048.84330754]\n",
      " [445655.75000586 493150.84399707   2911.52075962]\n",
      " [445489.12500586 493495.87500293   2955.54196171]\n",
      " [444889.469      493612.34400089   2838.68563847]\n",
      " [445232.75000014 493996.34399707   3018.82907681]\n",
      " [445328.15599646 493498.87500293   2987.7049828 ]\n",
      " [444880.719      493482.71899707   2759.639679  ]\n",
      " [444874.93799414 493699.03100116   2868.26225285]\n",
      " [445299.594      493706.31299884   2967.89337162]\n",
      " [444874.93799414 493699.03100116   2868.26225285]\n",
      " [445224.25000014 494092.34399707   3056.27676396]\n",
      " [444788.56299414 493811.25000293   2840.66139225]\n",
      " [445104.43799414 493997.93799121   3137.65588383]\n",
      " [445292.40600027 493565.62499912   2957.04658131]\n",
      " [445066.28099646 493922.03100879   3174.38372807]\n",
      " [444772.06299414 493891.59399707   2880.40137486]\n",
      " [445073.90599646 494299.87500293   3245.00411991]\n",
      " [445042.00000586 494199.43799121   3215.91249089]\n",
      " [445208.594      494189.15600879   3135.42376713]\n",
      " [445108.15599646 494105.75000293   3128.09936528]\n",
      " [444812.18799414 494086.81299121   2980.95001988]\n",
      " [445419.75000586 493605.84399993   2925.80312352]\n",
      " [445072.90599646 494294.90600879   3243.94145207]\n",
      " [445209.81299986 494191.90600879   3135.53424076]\n",
      " [445099.719      494191.37500293   3166.96856694]\n",
      " [445022.37500586 494102.40600879   3201.16554264]\n",
      " [445500.00000586 493600.00000007   2921.35536198]]\n"
     ]
    }
   ],
   "source": [
    "print(Wolfpass.drill_vertices)"
   ]
  },
  {
   "cell_type": "markdown",
   "metadata": {},
   "source": [
    "We only need the locations of these points, no other data, so let's construct our <a href=\"https://python.steno3d.com/en/latest/content/api/resources/point.html\">point</a> resource now. We will make the points orange so they stand out when plotted with the surface imagery."
   ]
  },
  {
   "cell_type": "code",
   "execution_count": 19,
   "metadata": {},
   "outputs": [],
   "source": [
    "drill_points = steno3d.Point(\n",
    "    project=prelim_data,\n",
    "    title='Proposed Drill Locations',\n",
    "    mesh=drill_locations,\n",
    "    opts=dict(color='orange')\n",
    ")"
   ]
  },
  {
   "cell_type": "markdown",
   "metadata": {},
   "source": [
    "After uploading these points to our project on <a href=\"https://steno3d.com\">steno3d.com</a>, let's print the url of our project to share."
   ]
  },
  {
   "cell_type": "code",
   "execution_count": 20,
   "metadata": {},
   "outputs": [
    {
     "name": "stdout",
     "output_type": "stream",
     "text": [
      "This project is PUBLIC. It is viewable by everyone.\n",
      "Total progress:  18% - Uploading: project Tested Drill Locations\n",
      "Complete!\n",
      "https://steno3d.com/resource/point/hnDAVyyMDWmsyueJXby5\n"
     ]
    },
    {
     "data": {
      "text/plain": [
       "'https://steno3d.com/resource/point/hnDAVyyMDWmsyueJXby5'"
      ]
     },
     "execution_count": 20,
     "metadata": {},
     "output_type": "execute_result"
    }
   ],
   "source": [
    "drill_points.upload()"
   ]
  },
  {
   "cell_type": "code",
   "execution_count": 21,
   "metadata": {},
   "outputs": [
    {
     "name": "stdout",
     "output_type": "stream",
     "text": [
      "https://steno3d.com/app/mAflLQZ1R6wsvOeiUesE\n"
     ]
    }
   ],
   "source": [
    "print(prelim_data.url)"
   ]
  },
  {
   "cell_type": "markdown",
   "metadata": {},
   "source": [
    "## Plot the Borehole Data\n",
    "\n",
    "After discussing the preliminary data project online with collaborators, it was decided to go ahead with borehole drilling. Now the data is back and available to be explored with. Let's make a new project to contain the results of the drilling."
   ]
  },
  {
   "cell_type": "code",
   "execution_count": 12,
   "metadata": {},
   "outputs": [],
   "source": [
    "result_data = steno3d.Project(\n",
    "    title='Test 2: Results',\n",
    "    description='This project will contain borehole data and interpreted formation surface.',\n",
    "    public=True  # Public for our example, since private quota is limited.\n",
    ")"
   ]
  },
  {
   "cell_type": "markdown",
   "metadata": {},
   "source": [
    "To display our borehole data, we first need a <a href=\"https://python.steno3d.com/en/latest/content/api/resources/line.html#meshes\">mesh 1D</a> based on their spatial geometry. This is imported from the `Wolfpass` module. The `view_type` option sets the lines mesh to initially display as fixed-width, extruded \"tubes\" rather than true 1D lines."
   ]
  },
  {
   "cell_type": "code",
   "execution_count": 7,
   "metadata": {},
   "outputs": [
    {
     "name": "stdout",
     "output_type": "stream",
     "text": [
      "[[445198.219      494110.594        3057.75753665]\n",
      " [445199.50452627 494110.58278138   3056.22544776]\n",
      " [445200.79005254 494110.57156276   3054.69335888]\n",
      " ...\n",
      " [445465.11394538 493600.           2825.50671284]\n",
      " [445464.42990509 493600.           2823.6273276 ]\n",
      " [445463.93397691 493600.           2822.26477612]]\n",
      "[[   0    1]\n",
      " [   1    2]\n",
      " [   2    3]\n",
      " ...\n",
      " [8575 8576]\n",
      " [8576 8577]\n",
      " [8577 8578]]\n"
     ]
    }
   ],
   "source": [
    "print(Wolfpass.borehole_vertices)\n",
    "print( Wolfpass.borehole_segments)\n",
    "\n",
    "borehole_mesh = steno3d.Mesh1D(\n",
    "    vertices = Wolfpass.borehole_vertices,\n",
    "    segments = Wolfpass.borehole_segments,\n",
    "    opts = dict(\n",
    "        view_type='boreholes'\n",
    "    )\n",
    ")"
   ]
  },
  {
   "cell_type": "markdown",
   "metadata": {},
   "source": [
    "Let's create a <a href=\"https://python.steno3d.com/en/latest/content/api/resources/line.html\">line</a> resource now using this mesh."
   ]
  },
  {
   "cell_type": "code",
   "execution_count": 16,
   "metadata": {},
   "outputs": [],
   "source": [
    "boreholes = steno3d.Line(\n",
    "    project=result_data,\n",
    "    title='Borehole Results',\n",
    "    description='Data based on results of borehole drilling',\n",
    "    mesh=borehole_mesh\n",
    ")"
   ]
  },
  {
   "cell_type": "markdown",
   "metadata": {},
   "source": [
    "We need to add all the data to the boreholes now."
   ]
  },
  {
   "cell_type": "code",
   "execution_count": 17,
   "metadata": {},
   "outputs": [
    {
     "name": "stdout",
     "output_type": "stream",
     "text": [
      "{'AG_gpt': array([6.35, 5.2 , 5.75, ...,  nan,  nan,  nan]), 'AS_ppm': array([26.3, 31. , 32.5, ...,  nan,  nan,  nan]), 'AU_gpt': array([1.75, 1.73, 6.  , ..., 0.38, 0.65, 0.66]), 'CU_pct': array([0.79, 0.83, 0.84, ...,  nan,  nan,  nan]), 'Density': array([ nan,  nan,  nan, ..., 2.93, 2.81, 2.97]), 'MO_ppm': array([10. , 12.2, 24.8, ...,  nan,  nan,  nan]), 'Recov': array([0.5 , 1.3 , 1.8 , ..., 2.  , 1.8 , 1.45]), 'S_pct': array([ 0.,  0.,  0., ..., nan, nan, nan]), 'dacite_data': array([0.05489251, 0.05580048, 0.05672582, ..., 0.27216602, 0.26993653,\n",
      "       0.2657913 ])}\n"
     ]
    }
   ],
   "source": [
    "borehole_raw_data = Wolfpass.borehole_data\n",
    "print (Wolfpass.borehole_data)\n",
    "\n",
    "borehole_data = [\n",
    "    steno3d.DataArray(title=rd, array=borehole_raw_data[rd]) for rd in borehole_raw_data\n",
    "]\n",
    "borehole_bound_data = [\n",
    "    dict(location='CC', data=d) for d in borehole_data\n",
    "]"
   ]
  },
  {
   "cell_type": "code",
   "execution_count": 26,
   "metadata": {},
   "outputs": [],
   "source": [
    "boreholes.data = borehole_bound_data"
   ]
  },
  {
   "cell_type": "markdown",
   "metadata": {},
   "source": [
    "These boreholes will be easier to analyze if the ground surface is also present. We can simply add the ground surface resource created for the <a href=\"#Inspect-the-Surface-Topography\">preliminary data project</a> to our results data project."
   ]
  },
  {
   "cell_type": "code",
   "execution_count": 27,
   "metadata": {},
   "outputs": [],
   "source": [
    "result_data.resources += [ground_surf]"
   ]
  },
  {
   "cell_type": "markdown",
   "metadata": {},
   "source": [
    "We can adjust the opacity of this surface so the boreholes are not obscured."
   ]
  },
  {
   "cell_type": "code",
   "execution_count": 28,
   "metadata": {},
   "outputs": [],
   "source": [
    "ground_surf.opts.opacity = 0.25"
   ]
  },
  {
   "cell_type": "markdown",
   "metadata": {},
   "source": [
    "Now our borehole results can be uploaded and shared."
   ]
  },
  {
   "cell_type": "code",
   "execution_count": 29,
   "metadata": {},
   "outputs": [
    {
     "name": "stdout",
     "output_type": "stream",
     "text": [
      "Verifying your quota for public projects...\n",
      "This PUBLIC project will be viewable by everyone.\n",
      "Total progress:  23% - Uploading: project Test 2: Resultsevation\n",
      "Complete!\n",
      "https://steno3d.com/app/j18YH5DCbSP772AjOmop\n"
     ]
    },
    {
     "data": {
      "text/plain": [
       "'j18YH5DCbSP772AjOmop'"
      ]
     },
     "execution_count": 29,
     "metadata": {},
     "output_type": "execute_result"
    }
   ],
   "source": [
    "result_data.upload()"
   ]
  },
  {
   "cell_type": "markdown",
   "metadata": {},
   "source": [
    "## Explore the Modeled Formation\n",
    "\n",
    "Based on the borehole results, modelling of the dacite formation has been carried out. Let's view this modeled surface with our other results using <a href=\"https://steno3d.com\">Steno3D</a>. We will create, upload, and print the url for sharing in one step."
   ]
  },
  {
   "cell_type": "code",
   "execution_count": 30,
   "metadata": {},
   "outputs": [
    {
     "name": "stdout",
     "output_type": "stream",
     "text": [
      "This project is PUBLIC. It is viewable by everyone.\n",
      "Total progress:  27% - Uploading: project Test 2: Resultsnvation\n",
      "Complete!\n",
      "https://steno3d.com/resource/surface/CZrqBU2o2oYEPlDEmbEW\n",
      "https://steno3d.com/app/j18YH5DCbSP772AjOmop\n"
     ]
    }
   ],
   "source": [
    "dacite_ind = Wolfpass.lith_names.index('dacite')\n",
    "dacite_vertices = Wolfpass.lith_vertices[dacite_ind]\n",
    "dacite_triangles = Wolfpass.lith_triangles[dacite_ind]\n",
    "\n",
    "dacite_surface = steno3d.Surface(\n",
    "    project=result_data,\n",
    "    title='Dacite Formation',\n",
    "    description='Bounding surface of dacite based on borehole data and modelling results',\n",
    "    mesh=steno3d.Mesh2D(\n",
    "        vertices=dacite_vertices,\n",
    "        triangles=dacite_triangles\n",
    "    ),\n",
    "    opts=dict(\n",
    "        color='red'\n",
    "    )\n",
    ")\n",
    "dacite_surface.upload()\n",
    "print(result_data.url)"
   ]
  },
  {
   "cell_type": "markdown",
   "metadata": {},
   "source": [
    "___\n",
    "**Navigation**\n",
    "- <a href=\"#Comprehensive-Example:-Wolf-Pass-Exploration-Project\">Top of page</a>\n",
    "- <a href=\"index.ipynb\">Notebook home</a>\n",
    "- <a href=\"https://steno3d.com\">Steno3D website</a>\n",
    "- <a href=\"https://steno3d.com/docs\">Steno3D documentation</a>\n",
    "- <a href=\"https://github.com/seequent/steno3d-notebooks/issues/new\">Report an issue</a>\n",
    "___"
   ]
  }
 ],
 "metadata": {
  "kernelspec": {
   "display_name": "Python 3",
   "language": "python",
   "name": "python3"
  },
  "language_info": {
   "codemirror_mode": {
    "name": "ipython",
    "version": 3
   },
   "file_extension": ".py",
   "mimetype": "text/x-python",
   "name": "python",
   "nbconvert_exporter": "python",
   "pygments_lexer": "ipython3",
   "version": "3.7.2"
  }
 },
 "nbformat": 4,
 "nbformat_minor": 1
}
