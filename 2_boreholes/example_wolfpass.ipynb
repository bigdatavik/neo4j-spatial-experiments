{
 "cells": [
  {
   "cell_type": "markdown",
   "metadata": {},
   "source": [
    "<img src=\"images/steno3d.png\" width=\"200\"></img>\n",
    "\n",
    "<br>\n",
    "\n",
    "# Comprehensive Example: Wolf Pass Exploration Project\n",
    "\n",
    "In this notebook, we will use <a href=\"https://steno3d.com\">Steno3D</a> to view and share data throughout the steps of a mineral resource exploration project at Wolf Pass. The steps in this project include:\n",
    "\n",
    "- <a href=\"#Inspect-the-Surface-Topography\">Inspecting the Surface Topography</a>\n",
    "- <a href=\"#Decide-on-Drill-Locations\">Deciding on Drill Locations</a>\n",
    "- <a href=\"#Plot-the-Borehole-Data\">Plotting the Borehole Data</a>\n",
    "- <a href=\"#Explore-the-Modeled-Formation\">Exploring the Modeled Formation</a>"
   ]
  },
  {
   "cell_type": "markdown",
   "metadata": {},
   "source": [
    "___\n",
    "**Navigation**\n",
    "- <a href=\"index.ipynb\">Notebook home</a>\n",
    "- <a href=\"https://steno3d.com\">Steno3D website</a>\n",
    "- <a href=\"https://steno3d.com/docs\">Steno3D documentation</a>\n",
    "- <a href=\"https://github.com/seequent/steno3d-notebooks/issues/new\">Report an issue</a>\n",
    "___"
   ]
  },
  {
   "cell_type": "code",
   "execution_count": null,
   "metadata": {
    "collapsed": true
   },
   "outputs": [],
   "source": [
    "import steno3d"
   ]
  },
  {
   "cell_type": "markdown",
   "metadata": {},
   "source": [
    "## Login to Steno3D\n",
    "\n",
    "The first thing you need to do is login to Steno3D. You can <a href=\"https://steno3d.com/signup\">sign up for an account</a> to get your own developer API key if you do not have one already. Running the cell below will provide you with instructions for how to obtain and enter your key."
   ]
  },
  {
   "cell_type": "code",
   "execution_count": null,
   "metadata": {
    "collapsed": false
   },
   "outputs": [],
   "source": [
    "steno3d.login()"
   ]
  },
  {
   "cell_type": "markdown",
   "metadata": {},
   "source": [
    "For this notebook, we will be using example data from the `steno3d.examples.Wolfpass` module. This module downloads raw data, saves it to a folder in the home directory (or another location you may specify), and allows easy access to all the different pieces of data."
   ]
  },
  {
   "cell_type": "code",
   "execution_count": null,
   "metadata": {
    "collapsed": true
   },
   "outputs": [],
   "source": [
    "from steno3d.examples import Wolfpass\n",
    "Wolfpass.fetch_data(verbose=False)  # To specify a different data directory than the\n",
    "                                    # default '$HOME/.steno3d_python_assets/' use\n",
    "                                    # keyword argument `directory='/path/to/your/directory/'`"
   ]
  },
  {
   "cell_type": "markdown",
   "metadata": {},
   "source": [
    "## Inspect the Surface Topography\n",
    "\n",
    "The first step of using Steno3D is to create a <a href=\"https://python.steno3d.com/en/latest/content/api/projects.html\">project</a>. Let's make one that will include all our preliminary data used to plan the mineral resource exploration. We will create a different project later when we have some results to display.\n",
    "\n",
    "This project is public, so anyone can view it once it is uploaded. When working with your own data, you may want to create private projects to share only with your collaborators. Different Steno3D accounts allow different numbers of private projects; <a href=\"https://steno3d.com/pricing\">learn about these accounts and how to upgrade on the Steno3D website</a>."
   ]
  },
  {
   "cell_type": "code",
   "execution_count": null,
   "metadata": {
    "collapsed": false
   },
   "outputs": [],
   "source": [
    "prelim_data = steno3d.Project(\n",
    "    title='Wolf Pass Exploration: Preliminary Data',\n",
    "    description='This project will contain surface topography and planned borehole drill locations.',\n",
    "    public=True\n",
    ")"
   ]
  },
  {
   "cell_type": "markdown",
   "metadata": {},
   "source": [
    "Now we can start to construct our ground surface. To build the <a href=\"https://python.steno3d.com/en/latest/content/api/resources/surface.html#meshes\">mesh</a>, we use vertices and triangles imported from our `Wolfpass` example module."
   ]
  },
  {
   "cell_type": "code",
   "execution_count": null,
   "metadata": {
    "collapsed": false
   },
   "outputs": [],
   "source": [
    "ground_mesh = steno3d.Mesh2D(\n",
    "    vertices=Wolfpass.topo_vertices,\n",
    "    triangles=Wolfpass.topo_triangles\n",
    ")"
   ]
  },
  {
   "cell_type": "markdown",
   "metadata": {},
   "source": [
    "Elevation data will be useful; this can come directly from the `vertices`."
   ]
  },
  {
   "cell_type": "code",
   "execution_count": null,
   "metadata": {
    "collapsed": false
   },
   "outputs": [],
   "source": [
    "ground_elev = steno3d.DataArray(\n",
    "    title='Ground Surface Elevation',\n",
    "    description='Elevation values correspond to mesh vertices',\n",
    "    array=Wolfpass.topo_vertices[:,2]  # Elevation corresponds to Z-component of vertices\n",
    ")"
   ]
  },
  {
   "cell_type": "markdown",
   "metadata": {},
   "source": [
    "We also have some surface imagery of the area. The image and image orientation are avilable in the `Wolfpass` example module. They can be applied as a <a href=\"https://python.steno3d.com/en/latest/content/api/resources/texture.html#resources-texture\">texture</a>."
   ]
  },
  {
   "cell_type": "code",
   "execution_count": null,
   "metadata": {
    "collapsed": true
   },
   "outputs": [],
   "source": [
    "ground_image = steno3d.Texture2DImage(\n",
    "    title='Surface Imagery',\n",
    "    image=Wolfpass.topo_image,\n",
    "    O=Wolfpass.topo_image_orientation['O'],\n",
    "    U=Wolfpass.topo_image_orientation['U'],\n",
    "    V=Wolfpass.topo_image_orientation['V']\n",
    ")"
   ]
  },
  {
   "cell_type": "markdown",
   "metadata": {},
   "source": [
    "We can now add these components to our ground surface. (For tips on the data binding step, refer to <a href=\"https://python.steno3d.com/en/latest/content/api/resources/surface.html#data\">binding data to surface</a>."
   ]
  },
  {
   "cell_type": "code",
   "execution_count": null,
   "metadata": {
    "collapsed": false
   },
   "outputs": [],
   "source": [
    "ground_surf = steno3d.Surface(\n",
    "    project=prelim_data,\n",
    "    title='Ground Surface',\n",
    "    description='Surface with elevation data and surface imagery.',\n",
    "    mesh=ground_mesh,\n",
    "    textures=ground_image,\n",
    "    data=[dict(location='N',\n",
    "              data=ground_elev)]\n",
    ")"
   ]
  },
  {
   "cell_type": "markdown",
   "metadata": {},
   "source": [
    "We can now upload this surface to <a href=\"https://steno3d.com\">steno3d.com</a> and view the surface here in the notebook to ensure it looks okay."
   ]
  },
  {
   "cell_type": "code",
   "execution_count": null,
   "metadata": {
    "collapsed": false
   },
   "outputs": [],
   "source": [
    "ground_surf.upload()\n",
    "ground_surf.plot()"
   ]
  },
  {
   "cell_type": "markdown",
   "metadata": {},
   "source": [
    "## Decide on Drill Locations\n",
    "\n",
    "Now that we have the ground surface, we need to add some proposed drill location points. First, we need a <a href=\"https://python.steno3d.com/en/latest/content/api/resources/point.html#meshes\">mesh 0D</a>. The vertex data is imported from the `Wolfpass` module."
   ]
  },
  {
   "cell_type": "code",
   "execution_count": null,
   "metadata": {
    "collapsed": false
   },
   "outputs": [],
   "source": [
    "drill_locations = steno3d.Mesh0D(\n",
    "    vertices=Wolfpass.drill_vertices\n",
    ")"
   ]
  },
  {
   "cell_type": "markdown",
   "metadata": {},
   "source": [
    "We only need the locations of these points, no other data, so let's construct our <a href=\"https://python.steno3d.com/en/latest/content/api/resources/point.html\">point</a> resource now. We will make the points orange so they stand out when plotted with the surface imagery."
   ]
  },
  {
   "cell_type": "code",
   "execution_count": null,
   "metadata": {
    "collapsed": false
   },
   "outputs": [],
   "source": [
    "drill_points = steno3d.Point(\n",
    "    project=prelim_data,\n",
    "    title='Proposed Drill Locations',\n",
    "    mesh=drill_locations,\n",
    "    opts=dict(color='orange')\n",
    ")"
   ]
  },
  {
   "cell_type": "markdown",
   "metadata": {},
   "source": [
    "After uploading these points to our project on <a href=\"https://steno3d.com\">steno3d.com</a>, let's print the url of our project to share."
   ]
  },
  {
   "cell_type": "code",
   "execution_count": null,
   "metadata": {
    "collapsed": false
   },
   "outputs": [],
   "source": [
    "drill_points.upload()"
   ]
  },
  {
   "cell_type": "code",
   "execution_count": null,
   "metadata": {
    "collapsed": false
   },
   "outputs": [],
   "source": [
    "print(prelim_data.url)"
   ]
  },
  {
   "cell_type": "markdown",
   "metadata": {},
   "source": [
    "## Plot the Borehole Data\n",
    "\n",
    "After discussing the preliminary data project online with collaborators, it was decided to go ahead with borehole drilling. Now the data is back and available to be explored with. Let's make a new project to contain the results of the drilling."
   ]
  },
  {
   "cell_type": "code",
   "execution_count": null,
   "metadata": {
    "collapsed": false
   },
   "outputs": [],
   "source": [
    "result_data = steno3d.Project(\n",
    "    title='Wolf Pass Exploration: Results',\n",
    "    description='This project will contain borehole data and interpreted formation surface.',\n",
    "    public=True  # Public for our example, since private quota is limited.\n",
    ")"
   ]
  },
  {
   "cell_type": "markdown",
   "metadata": {},
   "source": [
    "To display our borehole data, we first need a <a href=\"https://python.steno3d.com/en/latest/content/api/resources/line.html#meshes\">mesh 1D</a> based on their spatial geometry. This is imported from the `Wolfpass` module. The `view_type` option sets the lines mesh to initially display as fixed-width, extruded \"tubes\" rather than true 1D lines."
   ]
  },
  {
   "cell_type": "code",
   "execution_count": null,
   "metadata": {
    "collapsed": false
   },
   "outputs": [],
   "source": [
    "borehole_mesh = steno3d.Mesh1D(\n",
    "    vertices = Wolfpass.borehole_vertices,\n",
    "    segments = Wolfpass.borehole_segments,\n",
    "    opts = dict(\n",
    "        view_type='boreholes'\n",
    "    )\n",
    ")"
   ]
  },
  {
   "cell_type": "markdown",
   "metadata": {},
   "source": [
    "Let's create a <a href=\"https://python.steno3d.com/en/latest/content/api/resources/line.html\">line</a> resource now using this mesh."
   ]
  },
  {
   "cell_type": "code",
   "execution_count": null,
   "metadata": {
    "collapsed": false
   },
   "outputs": [],
   "source": [
    "boreholes = steno3d.Line(\n",
    "    project=result_data,\n",
    "    title='Borehole Results',\n",
    "    description='Data based on results of borehole drilling',\n",
    "    mesh=borehole_mesh\n",
    ")"
   ]
  },
  {
   "cell_type": "markdown",
   "metadata": {},
   "source": [
    "We need to add all the data to the boreholes now."
   ]
  },
  {
   "cell_type": "code",
   "execution_count": null,
   "metadata": {
    "collapsed": false
   },
   "outputs": [],
   "source": [
    "borehole_raw_data = Wolfpass.borehole_data\n",
    "borehole_data = [\n",
    "    steno3d.DataArray(title=rd, array=borehole_raw_data[rd]) for rd in borehole_raw_data\n",
    "]\n",
    "borehole_bound_data = [\n",
    "    dict(location='CC', data=d) for d in borehole_data\n",
    "]"
   ]
  },
  {
   "cell_type": "code",
   "execution_count": null,
   "metadata": {
    "collapsed": false
   },
   "outputs": [],
   "source": [
    "boreholes.data = borehole_bound_data"
   ]
  },
  {
   "cell_type": "markdown",
   "metadata": {},
   "source": [
    "These boreholes will be easier to analyze if the ground surface is also present. We can simply add the ground surface resource created for the <a href=\"#Inspect-the-Surface-Topography\">preliminary data project</a> to our results data project."
   ]
  },
  {
   "cell_type": "code",
   "execution_count": null,
   "metadata": {
    "collapsed": true
   },
   "outputs": [],
   "source": [
    "result_data.resources += [ground_surf]"
   ]
  },
  {
   "cell_type": "markdown",
   "metadata": {},
   "source": [
    "We can adjust the opacity of this surface so the boreholes are not obscured."
   ]
  },
  {
   "cell_type": "code",
   "execution_count": null,
   "metadata": {
    "collapsed": true
   },
   "outputs": [],
   "source": [
    "ground_surf.opts.opacity = 0.25"
   ]
  },
  {
   "cell_type": "markdown",
   "metadata": {},
   "source": [
    "Now our borehole results can be uploaded and shared."
   ]
  },
  {
   "cell_type": "code",
   "execution_count": null,
   "metadata": {
    "collapsed": false
   },
   "outputs": [],
   "source": [
    "result_data.upload()"
   ]
  },
  {
   "cell_type": "markdown",
   "metadata": {},
   "source": [
    "## Explore the Modeled Formation\n",
    "\n",
    "Based on the borehole results, modelling of the dacite formation has been carried out. Let's view this modeled surface with our other results using <a href=\"https://steno3d.com\">Steno3D</a>. We will create, upload, and print the url for sharing in one step."
   ]
  },
  {
   "cell_type": "code",
   "execution_count": null,
   "metadata": {
    "collapsed": false
   },
   "outputs": [],
   "source": [
    "dacite_ind = Wolfpass.lith_names.index('dacite')\n",
    "dacite_vertices = Wolfpass.lith_vertices[dacite_ind]\n",
    "dacite_triangles = Wolfpass.lith_triangles[dacite_ind]\n",
    "\n",
    "dacite_surface = steno3d.Surface(\n",
    "    project=result_data,\n",
    "    title='Dacite Formation',\n",
    "    description='Bounding surface of dacite based on borehole data and modelling results',\n",
    "    mesh=steno3d.Mesh2D(\n",
    "        vertices=dacite_vertices,\n",
    "        triangles=dacite_triangles\n",
    "    ),\n",
    "    opts=dict(\n",
    "        color='red'\n",
    "    )\n",
    ")\n",
    "dacite_surface.upload()\n",
    "print(result_data.url)"
   ]
  },
  {
   "cell_type": "markdown",
   "metadata": {},
   "source": [
    "___\n",
    "**Navigation**\n",
    "- <a href=\"#Comprehensive-Example:-Wolf-Pass-Exploration-Project\">Top of page</a>\n",
    "- <a href=\"index.ipynb\">Notebook home</a>\n",
    "- <a href=\"https://steno3d.com\">Steno3D website</a>\n",
    "- <a href=\"https://steno3d.com/docs\">Steno3D documentation</a>\n",
    "- <a href=\"https://github.com/seequent/steno3d-notebooks/issues/new\">Report an issue</a>\n",
    "___"
   ]
  }
 ],
 "metadata": {
  "kernelspec": {
   "display_name": "Python 2",
   "language": "python",
   "name": "python2"
  },
  "language_info": {
   "codemirror_mode": {
    "name": "ipython",
    "version": 2
   },
   "file_extension": ".py",
   "mimetype": "text/x-python",
   "name": "python",
   "nbconvert_exporter": "python",
   "pygments_lexer": "ipython2",
   "version": "2.7.11"
  }
 },
 "nbformat": 4,
 "nbformat_minor": 0
}
